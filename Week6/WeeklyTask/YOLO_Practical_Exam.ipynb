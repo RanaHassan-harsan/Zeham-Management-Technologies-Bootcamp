{
  "cells": [
    {
      "cell_type": "markdown",
      "metadata": {
        "id": "view-in-github",
        "colab_type": "text"
      },
      "source": [
        "<a href=\"https://colab.research.google.com/github/RanaHassan-harsan/Zeham-Management-Technologies-Bootcamp/blob/main/Week6/WeeklyTask/YOLO_Practical_Exam.ipynb\" target=\"_parent\"><img src=\"https://colab.research.google.com/assets/colab-badge.svg\" alt=\"Open In Colab\"/></a>"
      ]
    },
    {
      "cell_type": "markdown",
      "id": "fd8284c7",
      "metadata": {
        "id": "fd8284c7"
      },
      "source": [
        "# Road Traffic Vehicle Counting Exam"
      ]
    },
    {
      "cell_type": "markdown",
      "id": "90e8c1a5",
      "metadata": {
        "id": "90e8c1a5"
      },
      "source": [
        "In this exam, you will use the YOLO (You Only Look Once) object detection model to analyze a video of road traffic. Your primary task is to count the number of vehicles exiting the road at each of the four exits (located at the top, bottom, left, and right of the frame). The video for this task is provided at `Datasets/YOLO_Exam_Video.mp4`.\n",
        "\n",
        "## Objectives\n",
        "- Load and process the video using OpenCV.\n",
        "- Utilize the YOLO model to detect vehicles in each frame.\n",
        "- Manipulate the video frames using OpenCV.\n",
        "- Track vehicles as they move across the video frames.\n",
        "- Count the number of vehicles exiting via the top street.\n",
        "- Count the number of vehicles exiting via the bottom street.\n",
        "- Count the number of vehicles exiting via the left street.\n",
        "- Count the number of vehicles exiting via the right street.\n"
      ]
    },
    {
      "cell_type": "code",
      "source": [
        "from google.colab import drive\n",
        "drive.mount('/content/drive')"
      ],
      "metadata": {
        "id": "_MMYDtL1B8Uh",
        "outputId": "97746011-311f-4644-d1b6-c6a63ed4f342",
        "colab": {
          "base_uri": "https://localhost:8080/"
        }
      },
      "id": "_MMYDtL1B8Uh",
      "execution_count": 1,
      "outputs": [
        {
          "output_type": "stream",
          "name": "stdout",
          "text": [
            "Mounted at /content/drive\n"
          ]
        }
      ]
    },
    {
      "cell_type": "markdown",
      "id": "c7269b0e",
      "metadata": {
        "id": "c7269b0e"
      },
      "source": [
        "## Setup Environment"
      ]
    },
    {
      "cell_type": "markdown",
      "id": "2fd3bce8",
      "metadata": {
        "id": "2fd3bce8"
      },
      "source": [
        "Before you begin, ensure you have the necessary libraries installed. You will need `opencv`, and `ultralytics` among others.\n",
        "If these are not installed, you should install them."
      ]
    },
    {
      "cell_type": "code",
      "source": [
        "pip install opencv-python ultralytics numpy"
      ],
      "metadata": {
        "id": "Vn_Ya_qNCKDP",
        "outputId": "7ef29e64-f41b-4f61-caa6-d50e31ddcec7",
        "colab": {
          "base_uri": "https://localhost:8080/"
        }
      },
      "id": "Vn_Ya_qNCKDP",
      "execution_count": 3,
      "outputs": [
        {
          "output_type": "stream",
          "name": "stdout",
          "text": [
            "Requirement already satisfied: opencv-python in /usr/local/lib/python3.10/dist-packages (4.10.0.84)\n",
            "Collecting ultralytics\n",
            "  Downloading ultralytics-8.2.85-py3-none-any.whl.metadata (41 kB)\n",
            "\u001b[2K     \u001b[90m━━━━━━━━━━━━━━━━━━━━━━━━━━━━━━━━━━━━━━━━\u001b[0m \u001b[32m41.8/41.8 kB\u001b[0m \u001b[31m2.2 MB/s\u001b[0m eta \u001b[36m0:00:00\u001b[0m\n",
            "\u001b[?25hRequirement already satisfied: numpy in /usr/local/lib/python3.10/dist-packages (1.26.4)\n",
            "Requirement already satisfied: matplotlib>=3.3.0 in /usr/local/lib/python3.10/dist-packages (from ultralytics) (3.7.1)\n",
            "Requirement already satisfied: pillow>=7.1.2 in /usr/local/lib/python3.10/dist-packages (from ultralytics) (9.4.0)\n",
            "Requirement already satisfied: pyyaml>=5.3.1 in /usr/local/lib/python3.10/dist-packages (from ultralytics) (6.0.2)\n",
            "Requirement already satisfied: requests>=2.23.0 in /usr/local/lib/python3.10/dist-packages (from ultralytics) (2.32.3)\n",
            "Requirement already satisfied: scipy>=1.4.1 in /usr/local/lib/python3.10/dist-packages (from ultralytics) (1.13.1)\n",
            "Requirement already satisfied: torch>=1.8.0 in /usr/local/lib/python3.10/dist-packages (from ultralytics) (2.4.0+cu121)\n",
            "Requirement already satisfied: torchvision>=0.9.0 in /usr/local/lib/python3.10/dist-packages (from ultralytics) (0.19.0+cu121)\n",
            "Requirement already satisfied: tqdm>=4.64.0 in /usr/local/lib/python3.10/dist-packages (from ultralytics) (4.66.5)\n",
            "Requirement already satisfied: psutil in /usr/local/lib/python3.10/dist-packages (from ultralytics) (5.9.5)\n",
            "Requirement already satisfied: py-cpuinfo in /usr/local/lib/python3.10/dist-packages (from ultralytics) (9.0.0)\n",
            "Requirement already satisfied: pandas>=1.1.4 in /usr/local/lib/python3.10/dist-packages (from ultralytics) (2.1.4)\n",
            "Requirement already satisfied: seaborn>=0.11.0 in /usr/local/lib/python3.10/dist-packages (from ultralytics) (0.13.1)\n",
            "Collecting ultralytics-thop>=2.0.0 (from ultralytics)\n",
            "  Downloading ultralytics_thop-2.0.6-py3-none-any.whl.metadata (9.1 kB)\n",
            "Requirement already satisfied: contourpy>=1.0.1 in /usr/local/lib/python3.10/dist-packages (from matplotlib>=3.3.0->ultralytics) (1.2.1)\n",
            "Requirement already satisfied: cycler>=0.10 in /usr/local/lib/python3.10/dist-packages (from matplotlib>=3.3.0->ultralytics) (0.12.1)\n",
            "Requirement already satisfied: fonttools>=4.22.0 in /usr/local/lib/python3.10/dist-packages (from matplotlib>=3.3.0->ultralytics) (4.53.1)\n",
            "Requirement already satisfied: kiwisolver>=1.0.1 in /usr/local/lib/python3.10/dist-packages (from matplotlib>=3.3.0->ultralytics) (1.4.5)\n",
            "Requirement already satisfied: packaging>=20.0 in /usr/local/lib/python3.10/dist-packages (from matplotlib>=3.3.0->ultralytics) (24.1)\n",
            "Requirement already satisfied: pyparsing>=2.3.1 in /usr/local/lib/python3.10/dist-packages (from matplotlib>=3.3.0->ultralytics) (3.1.4)\n",
            "Requirement already satisfied: python-dateutil>=2.7 in /usr/local/lib/python3.10/dist-packages (from matplotlib>=3.3.0->ultralytics) (2.8.2)\n",
            "Requirement already satisfied: pytz>=2020.1 in /usr/local/lib/python3.10/dist-packages (from pandas>=1.1.4->ultralytics) (2024.1)\n",
            "Requirement already satisfied: tzdata>=2022.1 in /usr/local/lib/python3.10/dist-packages (from pandas>=1.1.4->ultralytics) (2024.1)\n",
            "Requirement already satisfied: charset-normalizer<4,>=2 in /usr/local/lib/python3.10/dist-packages (from requests>=2.23.0->ultralytics) (3.3.2)\n",
            "Requirement already satisfied: idna<4,>=2.5 in /usr/local/lib/python3.10/dist-packages (from requests>=2.23.0->ultralytics) (3.8)\n",
            "Requirement already satisfied: urllib3<3,>=1.21.1 in /usr/local/lib/python3.10/dist-packages (from requests>=2.23.0->ultralytics) (2.0.7)\n",
            "Requirement already satisfied: certifi>=2017.4.17 in /usr/local/lib/python3.10/dist-packages (from requests>=2.23.0->ultralytics) (2024.7.4)\n",
            "Requirement already satisfied: filelock in /usr/local/lib/python3.10/dist-packages (from torch>=1.8.0->ultralytics) (3.15.4)\n",
            "Requirement already satisfied: typing-extensions>=4.8.0 in /usr/local/lib/python3.10/dist-packages (from torch>=1.8.0->ultralytics) (4.12.2)\n",
            "Requirement already satisfied: sympy in /usr/local/lib/python3.10/dist-packages (from torch>=1.8.0->ultralytics) (1.13.2)\n",
            "Requirement already satisfied: networkx in /usr/local/lib/python3.10/dist-packages (from torch>=1.8.0->ultralytics) (3.3)\n",
            "Requirement already satisfied: jinja2 in /usr/local/lib/python3.10/dist-packages (from torch>=1.8.0->ultralytics) (3.1.4)\n",
            "Requirement already satisfied: fsspec in /usr/local/lib/python3.10/dist-packages (from torch>=1.8.0->ultralytics) (2024.6.1)\n",
            "Requirement already satisfied: six>=1.5 in /usr/local/lib/python3.10/dist-packages (from python-dateutil>=2.7->matplotlib>=3.3.0->ultralytics) (1.16.0)\n",
            "Requirement already satisfied: MarkupSafe>=2.0 in /usr/local/lib/python3.10/dist-packages (from jinja2->torch>=1.8.0->ultralytics) (2.1.5)\n",
            "Requirement already satisfied: mpmath<1.4,>=1.1.0 in /usr/local/lib/python3.10/dist-packages (from sympy->torch>=1.8.0->ultralytics) (1.3.0)\n",
            "Downloading ultralytics-8.2.85-py3-none-any.whl (872 kB)\n",
            "\u001b[2K   \u001b[90m━━━━━━━━━━━━━━━━━━━━━━━━━━━━━━━━━━━━━━━━\u001b[0m \u001b[32m872.3/872.3 kB\u001b[0m \u001b[31m19.8 MB/s\u001b[0m eta \u001b[36m0:00:00\u001b[0m\n",
            "\u001b[?25hDownloading ultralytics_thop-2.0.6-py3-none-any.whl (26 kB)\n",
            "Installing collected packages: ultralytics-thop, ultralytics\n",
            "Successfully installed ultralytics-8.2.85 ultralytics-thop-2.0.6\n"
          ]
        }
      ]
    },
    {
      "cell_type": "code",
      "source": [
        "from ultralytics import YOLO\n",
        "import cv2"
      ],
      "metadata": {
        "id": "Z-xuWIHuDdPI"
      },
      "id": "Z-xuWIHuDdPI",
      "execution_count": 80,
      "outputs": []
    },
    {
      "cell_type": "code",
      "source": [],
      "metadata": {
        "id": "ApvzR3V2Dj-e"
      },
      "id": "ApvzR3V2Dj-e",
      "execution_count": null,
      "outputs": []
    },
    {
      "cell_type": "markdown",
      "id": "a69c2ac2",
      "metadata": {
        "id": "a69c2ac2"
      },
      "source": [
        "## Load the YOLO Model"
      ]
    },
    {
      "cell_type": "markdown",
      "id": "145d70fc",
      "metadata": {
        "id": "145d70fc"
      },
      "source": [
        "You will first need to load the YOLO model, there is a custom model for this exam called `YOLO_Model.pt` under Datasets file ⚠️ PLEASE USE THIS MODEL AND DO NOT USE ANY OTHER MODEL ⚠️.\n",
        "Write the code to load the YOLO model below:"
      ]
    },
    {
      "cell_type": "code",
      "execution_count": 6,
      "id": "7e580e4a",
      "metadata": {
        "vscode": {
          "languageId": "plaintext"
        },
        "id": "7e580e4a"
      },
      "outputs": [],
      "source": [
        "model = YOLO('/content/drive/MyDrive/Trainees - المتدربين/Week 6/6- Introduction to computer vision/5- Weekly Project (Sunday)/Dataset/YOLO_Model.pt')"
      ]
    },
    {
      "cell_type": "code",
      "source": [
        "model = YOLO('yolov8n')"
      ],
      "metadata": {
        "id": "xEZMLmWbTj8l",
        "outputId": "18238e3b-0838-4500-d940-a9fa6fba1c35",
        "colab": {
          "base_uri": "https://localhost:8080/"
        }
      },
      "id": "xEZMLmWbTj8l",
      "execution_count": 46,
      "outputs": [
        {
          "output_type": "stream",
          "name": "stdout",
          "text": [
            "Downloading https://github.com/ultralytics/assets/releases/download/v8.2.0/yolov8n.pt to 'yolov8n.pt'...\n"
          ]
        },
        {
          "output_type": "stream",
          "name": "stderr",
          "text": [
            "100%|██████████| 6.25M/6.25M [00:00<00:00, 111MB/s]\n"
          ]
        }
      ]
    },
    {
      "cell_type": "markdown",
      "id": "cf691ac8",
      "metadata": {
        "id": "cf691ac8"
      },
      "source": [
        "## Prepare the Video Capture"
      ]
    },
    {
      "cell_type": "markdown",
      "metadata": {
        "id": "Nw9RSvKCdonK"
      },
      "source": [
        "Create a variable to capture the video frames, you can use `cv2.VideoCapture()` to achive this."
      ],
      "id": "Nw9RSvKCdonK"
    },
    {
      "cell_type": "code",
      "source": [
        "cap = cv2.VideoCapture('/content/drive/MyDrive/Trainees - المتدربين/Week 6/6- Introduction to computer vision/5- Weekly Project (Sunday)/Dataset/YOLO_Video.mp4')"
      ],
      "metadata": {
        "id": "86NrK2N9EZIF"
      },
      "id": "86NrK2N9EZIF",
      "execution_count": 10,
      "outputs": []
    },
    {
      "cell_type": "code",
      "source": [
        "cap.isOpened()"
      ],
      "metadata": {
        "id": "65HqIvAIE43u",
        "outputId": "b6a78cbf-86a6-488a-8a3f-2260c0451071",
        "colab": {
          "base_uri": "https://localhost:8080/"
        }
      },
      "id": "65HqIvAIE43u",
      "execution_count": 12,
      "outputs": [
        {
          "output_type": "execute_result",
          "data": {
            "text/plain": [
              "True"
            ]
          },
          "metadata": {},
          "execution_count": 12
        }
      ]
    },
    {
      "cell_type": "code",
      "source": [
        "cap"
      ],
      "metadata": {
        "id": "wgaUG9LXE8Qk",
        "outputId": "07b6f086-a094-4214-e424-533c1fe7af0a",
        "colab": {
          "base_uri": "https://localhost:8080/"
        }
      },
      "id": "wgaUG9LXE8Qk",
      "execution_count": 15,
      "outputs": [
        {
          "output_type": "execute_result",
          "data": {
            "text/plain": [
              "< cv2.VideoCapture 0x7a12c0d557f0>"
            ]
          },
          "metadata": {},
          "execution_count": 15
        }
      ]
    },
    {
      "cell_type": "markdown",
      "id": "48757309",
      "metadata": {
        "id": "48757309"
      },
      "source": [
        "## Get Video Information"
      ]
    },
    {
      "cell_type": "markdown",
      "id": "b4f5d5bc",
      "metadata": {
        "id": "b4f5d5bc"
      },
      "source": [
        "You can use `cv2` library to get these information fro the `VideoCapture()` variable you created to extract these information:\n",
        "* `height`: Video's height.\n",
        "* `width`: Video's width.\n",
        "* `fps`: Video's frames."
      ]
    },
    {
      "cell_type": "code",
      "source": [
        "w, h, fps =(int(cap.get(x)) for x in (cv2.CAP_PROP_FRAME_WIDTH, cv2.CAP_PROP_FRAME_HEIGHT, cv2.CAP_PROP_FPS))"
      ],
      "metadata": {
        "id": "P4SOKGYnFH1u"
      },
      "id": "P4SOKGYnFH1u",
      "execution_count": 19,
      "outputs": []
    },
    {
      "cell_type": "code",
      "source": [
        "w, h, fps"
      ],
      "metadata": {
        "id": "aRsfUf0SGm9B",
        "outputId": "d4409f65-89b6-4307-864b-eb8a2fa019e4",
        "colab": {
          "base_uri": "https://localhost:8080/"
        }
      },
      "id": "aRsfUf0SGm9B",
      "execution_count": 20,
      "outputs": [
        {
          "output_type": "execute_result",
          "data": {
            "text/plain": [
              "(1920, 1080, 29)"
            ]
          },
          "metadata": {},
          "execution_count": 20
        }
      ]
    },
    {
      "cell_type": "markdown",
      "id": "3f241495",
      "metadata": {
        "id": "3f241495"
      },
      "source": [
        "## Prepare Video Writer to Store the Output"
      ]
    },
    {
      "cell_type": "markdown",
      "id": "9ef61a34",
      "metadata": {
        "id": "9ef61a34"
      },
      "source": [
        "Create a variable that uses `cv2.VideoCapture()` to save the video with the bounding boxes, specified Region of Interest rectangle (ROI) and the counted vehicles on each sides. You will need to make the video with the same `fps`, `width`, `height`, and specify the codec and output path of the video."
      ]
    },
    {
      "cell_type": "code",
      "source": [
        "Video_writer = cv2.VideoWriter('YOLO_Video_output.mp4', cv2.VideoWriter_fourcc(*'mp4v'), fps,(w,h))"
      ],
      "metadata": {
        "id": "zG1XtS9WG4_Y"
      },
      "id": "zG1XtS9WG4_Y",
      "execution_count": 21,
      "outputs": []
    },
    {
      "cell_type": "markdown",
      "id": "31e882a2",
      "metadata": {
        "id": "31e882a2"
      },
      "source": [
        "## Expermint to get the `(x1, y1, x2, y2)` of the ROI"
      ]
    },
    {
      "cell_type": "markdown",
      "id": "3b6e6d97",
      "metadata": {
        "id": "3b6e6d97"
      },
      "source": [
        "### Hint\n",
        "When defining the Regions of Interest (ROIs) for detecting vehicles exiting the road, consider the coordinates that outline the relevant areas. These coordinates can be specified as `(x1, y1, x2, y2)`, where `(x1, y1)` is the top-left corner and `(x2, y2)` is the bottom-right corner of the rectangle.\n",
        "\n",
        "Experiment with different coordinates to accurately cover the streets where vehicles exit. Visualize these ROIs by drawing rectangles on a frame of the video and adjust the coordinates as needed until you capture the desired areas effectively."
      ]
    },
    {
      "cell_type": "code",
      "source": [
        "right = (int(w*0.10), 0, w,h)\n",
        "left = (0,0,int(w*0.2),h)\n",
        "butoom = (0,int(h*0.10),w,h)\n",
        "top = (0,0,w,int(h*0.2))\n",
        "\n",
        "# (1920, 1080, 29)"
      ],
      "metadata": {
        "id": "gQZGUszWJ-My"
      },
      "id": "gQZGUszWJ-My",
      "execution_count": 23,
      "outputs": []
    },
    {
      "cell_type": "code",
      "source": [
        "right"
      ],
      "metadata": {
        "id": "apq_klxrM-cN",
        "outputId": "337f8317-d25c-46cf-e952-8321a8e1ab17",
        "colab": {
          "base_uri": "https://localhost:8080/"
        }
      },
      "id": "apq_klxrM-cN",
      "execution_count": 26,
      "outputs": [
        {
          "output_type": "execute_result",
          "data": {
            "text/plain": [
              "(192, 0, 1920, 1080)"
            ]
          },
          "metadata": {},
          "execution_count": 26
        }
      ]
    },
    {
      "cell_type": "code",
      "source": [
        "left"
      ],
      "metadata": {
        "id": "W1NDHVHYNGdA",
        "outputId": "6615d0eb-2623-4f3d-fa7c-58c6ed7bf1d0",
        "colab": {
          "base_uri": "https://localhost:8080/"
        }
      },
      "id": "W1NDHVHYNGdA",
      "execution_count": 27,
      "outputs": [
        {
          "output_type": "execute_result",
          "data": {
            "text/plain": [
              "(0, 0, 384, 1080)"
            ]
          },
          "metadata": {},
          "execution_count": 27
        }
      ]
    },
    {
      "cell_type": "code",
      "source": [
        "butoom"
      ],
      "metadata": {
        "id": "3AlJmmL7NKK_",
        "outputId": "a60b5aca-adfc-42fc-902d-7299726b0c6a",
        "colab": {
          "base_uri": "https://localhost:8080/"
        }
      },
      "id": "3AlJmmL7NKK_",
      "execution_count": 30,
      "outputs": [
        {
          "output_type": "execute_result",
          "data": {
            "text/plain": [
              "(0, 108, 1920, 1080)"
            ]
          },
          "metadata": {},
          "execution_count": 30
        }
      ]
    },
    {
      "cell_type": "code",
      "source": [
        "top"
      ],
      "metadata": {
        "id": "EtKrTq4DNQTP",
        "outputId": "ff260fe5-0bcb-43c8-b631-6ebe0b0549b3",
        "colab": {
          "base_uri": "https://localhost:8080/"
        }
      },
      "id": "EtKrTq4DNQTP",
      "execution_count": 31,
      "outputs": [
        {
          "output_type": "execute_result",
          "data": {
            "text/plain": [
              "(0, 0, 1920, 216)"
            ]
          },
          "metadata": {},
          "execution_count": 31
        }
      ]
    },
    {
      "cell_type": "markdown",
      "id": "067dbc12",
      "metadata": {
        "id": "067dbc12"
      },
      "source": [
        "## Process Video Frames and Identify Vehicles Left the Road Form Each Street"
      ]
    },
    {
      "cell_type": "markdown",
      "id": "aa695d88",
      "metadata": {
        "id": "aa695d88"
      },
      "source": [
        "For each frame in the video, use the YOLO model to detect and track vehicles. You will need to write a loop that processes each frame and applies the YOLO model.\n",
        "\n",
        "In each frame, after detecting the vehicles, determine whether they exited the road via the top, bottom, left, or right street. You can use the positions of the bounding boxes provided by YOLO to do this.\n",
        "\n",
        "- The video should display bounding boxes around the detected objects.\n",
        "- The video should display your name on the top.\n",
        "- It should display the calculated center of each vehicle.\n",
        "- The video should display the confidence score, alongside the object ID and class ID of each detected and tracked object.\n",
        "- The video should display the rectangles representing the regions where you count the vehicles that have crossed and exited.\n",
        "- The video should display the number of vehicles that exited via the top street.\n",
        "- The video should display the number of vehicles that exited via the bottom street.\n",
        "- The video should display the number of vehicles that exited via the left street.\n",
        "- The video should display the number of vehicles that exited via the right street."
      ]
    },
    {
      "cell_type": "code",
      "source": [
        "count_left = 0\n",
        "count_right = 0\n",
        "count_bottom = 0\n",
        "count_top = 0"
      ],
      "metadata": {
        "id": "pEpw_7GDOLyP"
      },
      "id": "pEpw_7GDOLyP",
      "execution_count": 32,
      "outputs": []
    },
    {
      "cell_type": "code",
      "source": [
        "while cap.isOpened():\n",
        "    sucsess, im0 = cap.read()\n",
        "    if not sucsess:\n",
        "        print('video frame is emoty or video processing has been successfuly completed')\n",
        "        break"
      ],
      "metadata": {
        "id": "nWrEehCePBox",
        "outputId": "59c88cb0-352e-4f5c-b9a9-6b8bade228f9",
        "colab": {
          "base_uri": "https://localhost:8080/"
        }
      },
      "id": "nWrEehCePBox",
      "execution_count": 34,
      "outputs": [
        {
          "output_type": "stream",
          "name": "stdout",
          "text": [
            "video frame is emoty or video processing has been successfuly completed\n"
          ]
        }
      ]
    },
    {
      "cell_type": "code",
      "source": [
        "results = model(im0)"
      ],
      "metadata": {
        "id": "BH1-OwbVQDLt",
        "outputId": "097ece6d-7e0f-405c-b140-c95a8c7ae4bb",
        "colab": {
          "base_uri": "https://localhost:8080/"
        }
      },
      "id": "BH1-OwbVQDLt",
      "execution_count": 36,
      "outputs": [
        {
          "output_type": "stream",
          "name": "stdout",
          "text": [
            "WARNING ⚠️ 'source' is missing. Using 'source=/usr/local/lib/python3.10/dist-packages/ultralytics/assets'.\n",
            "\n",
            "image 1/2 /usr/local/lib/python3.10/dist-packages/ultralytics/assets/bus.jpg: 640x480 12 cars, 4454.7ms\n",
            "image 2/2 /usr/local/lib/python3.10/dist-packages/ultralytics/assets/zidane.jpg: 384x640 1 car, 3182.2ms\n",
            "Speed: 13.6ms preprocess, 3818.5ms inference, 18.8ms postprocess per image at shape (1, 3, 384, 640)\n"
          ]
        }
      ]
    },
    {
      "cell_type": "code",
      "source": [
        "for detection in results:\n",
        "  if detection.boxes:\n",
        "    for cls in detection.boxes.xyxy:\n",
        "      x1, y1 , x2, y2 = cls.tolist()"
      ],
      "metadata": {
        "id": "qGaLQdB_Xq7h"
      },
      "id": "qGaLQdB_Xq7h",
      "execution_count": 62,
      "outputs": []
    },
    {
      "cell_type": "code",
      "source": [
        "x1, y1 , x2, y2"
      ],
      "metadata": {
        "id": "Z0B9vMe0Xemt",
        "outputId": "27eeb5d0-9700-4028-f3dd-e769900175d3",
        "colab": {
          "base_uri": "https://localhost:8080/"
        }
      },
      "id": "Z0B9vMe0Xemt",
      "execution_count": 63,
      "outputs": [
        {
          "output_type": "execute_result",
          "data": {
            "text/plain": [
              "(602.10986328125, 578.212158203125, 632.836181640625, 625.6329345703125)"
            ]
          },
          "metadata": {},
          "execution_count": 63
        }
      ]
    },
    {
      "cell_type": "code",
      "source": [
        "# drawing\n",
        "cv2.rectangle(im0, (int(x1), int(y1)), (int(x2), int(y2)), (0,255,0), 3)"
      ],
      "metadata": {
        "id": "O4x1211cUPH-"
      },
      "id": "O4x1211cUPH-",
      "execution_count": 66,
      "outputs": []
    },
    {
      "cell_type": "code",
      "source": [
        "# The video should display your name on the top.\n",
        "cv2.putText(im0, 'Rana', (10, 20), cv2.FONT_HERSHEY_SIMPLEX, 0.6, (255, 255, 255), 2)"
      ],
      "metadata": {
        "id": "V2gUkglcar_8"
      },
      "id": "V2gUkglcar_8",
      "execution_count": 72,
      "outputs": []
    },
    {
      "cell_type": "code",
      "source": [
        "vehicle_centerX = (x1+x2)//2\n",
        "vehicle_centerY = (y1+y2)//2"
      ],
      "metadata": {
        "id": "tduz9PsyZTNL"
      },
      "id": "tduz9PsyZTNL",
      "execution_count": 69,
      "outputs": []
    },
    {
      "cell_type": "code",
      "source": [
        "vehicle_centerX"
      ],
      "metadata": {
        "id": "wYcqg5EYZvKO",
        "outputId": "14e9ecd3-6246-42d3-ccde-6d01a062c658",
        "colab": {
          "base_uri": "https://localhost:8080/"
        }
      },
      "id": "wYcqg5EYZvKO",
      "execution_count": 70,
      "outputs": [
        {
          "output_type": "execute_result",
          "data": {
            "text/plain": [
              "617.0"
            ]
          },
          "metadata": {},
          "execution_count": 70
        }
      ]
    },
    {
      "cell_type": "code",
      "source": [
        "vehicle_centerY"
      ],
      "metadata": {
        "id": "vn5ZxzPXZz5e",
        "outputId": "ddb54a8a-513a-4910-ee3a-47dc53124e37",
        "colab": {
          "base_uri": "https://localhost:8080/"
        }
      },
      "id": "vn5ZxzPXZz5e",
      "execution_count": 71,
      "outputs": [
        {
          "output_type": "execute_result",
          "data": {
            "text/plain": [
              "601.0"
            ]
          },
          "metadata": {},
          "execution_count": 71
        }
      ]
    },
    {
      "cell_type": "code",
      "source": [
        "if top[1] <= vehicle_centerY <= top[3]:\n",
        "  count_top += 1\n",
        "elif butoom[1] <= vehicle_centerY <= butoom[3]:\n",
        "  count_bottom += 1\n",
        "elif left[0] <= vehicle_centerX <= left[2]:\n",
        "  count_left += 1\n",
        "elif right[0] <= vehicle_centerX <= right[2]:\n",
        "  count_right += 1"
      ],
      "metadata": {
        "id": "3iBjYPmSdW_p"
      },
      "id": "3iBjYPmSdW_p",
      "execution_count": 93,
      "outputs": []
    },
    {
      "cell_type": "code",
      "source": [
        "count_top , count_bottom , count_left , count_right"
      ],
      "metadata": {
        "id": "dAbL53rwiDPk",
        "outputId": "9b13e86f-5b9f-494d-bfb1-204d2d2eeee7",
        "colab": {
          "base_uri": "https://localhost:8080/"
        }
      },
      "id": "dAbL53rwiDPk",
      "execution_count": 100,
      "outputs": [
        {
          "output_type": "execute_result",
          "data": {
            "text/plain": [
              "(0, 3, 0, 0)"
            ]
          },
          "metadata": {},
          "execution_count": 100
        }
      ]
    },
    {
      "cell_type": "code",
      "source": [
        "Video_writer.write(im0)"
      ],
      "metadata": {
        "id": "lNDEXGXRey9Y"
      },
      "id": "lNDEXGXRey9Y",
      "execution_count": 95,
      "outputs": []
    },
    {
      "cell_type": "code",
      "source": [
        "# Release resources\n",
        "cap.release()\n",
        "Video_writer.release()\n",
        "cv2.destroyAllWindows()"
      ],
      "metadata": {
        "id": "eTrgL7UkNzFU"
      },
      "id": "eTrgL7UkNzFU",
      "execution_count": 96,
      "outputs": []
    },
    {
      "cell_type": "markdown",
      "id": "71d3083e",
      "metadata": {
        "id": "71d3083e"
      },
      "source": [
        "## Save and Submit Your Work"
      ]
    },
    {
      "cell_type": "markdown",
      "id": "ae5e33ac",
      "metadata": {
        "id": "ae5e33ac"
      },
      "source": [
        "Submit both the notebook and the output video"
      ]
    }
  ],
  "metadata": {
    "language_info": {
      "name": "python"
    },
    "colab": {
      "provenance": [],
      "include_colab_link": true
    },
    "kernelspec": {
      "name": "python3",
      "display_name": "Python 3"
    }
  },
  "nbformat": 4,
  "nbformat_minor": 5
}