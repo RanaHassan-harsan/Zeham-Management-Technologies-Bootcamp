{
 "cells": [
  {
   "cell_type": "markdown",
   "id": "9ae4cc02",
   "metadata": {},
   "source": [
    "# Bagging Exercise\n",
    "\n",
    "In this exercise, you will explore the concept of Bagging (Bootstrap Aggregating) and implement it using a random forest model. Bagging is an ensemble technique mainly used for reducing the variance of a predictive model and preventing overfitting. The main idea behind bagging is to combine multiple learners in a way that the ensemble model performs better than an individual model.\n",
    "\n",
    "## Dataset\n",
    "We will use the Iris dataset for this exercise. The Iris dataset is a classic dataset from the field of machine learning, containing measurements for iris flowers of three different species. **Feel free to use another dataset!!**\n",
    "\n",
    "## Task\n",
    "Your task is to:\n",
    "1. Load the dataset.\n",
    "2. Preprocess the data (if necessary).\n",
    "3. Implement Bagging models.\n",
    "4. Evaluate the models performance.\n",
    "\n",
    "Please fill in the following code blocks to complete the exercise.\n"
   ]
  },
  {
   "cell_type": "code",
   "execution_count": 1,
   "id": "cd906704",
   "metadata": {},
   "outputs": [],
   "source": [
    "import pandas as pd\n",
    "from sklearn.datasets import load_iris\n",
    "from sklearn.ensemble import BaggingClassifier, RandomForestClassifier\n",
    "from sklearn.model_selection import train_test_split\n",
    "from sklearn.metrics import accuracy_score\n",
    "from sklearn.neighbors import KNeighborsClassifier\n",
    "from sklearn.tree import DecisionTreeClassifier"
   ]
  },
  {
   "cell_type": "markdown",
   "id": "3bc0f20e",
   "metadata": {},
   "source": [
    "# Load the dataset\n"
   ]
  },
  {
   "cell_type": "code",
   "execution_count": 2,
   "id": "47ecb305",
   "metadata": {},
   "outputs": [],
   "source": [
    "# Load the dataset\n",
    "iris = load_iris()\n",
    "df = pd.DataFrame(data= iris.data, columns = iris.feature_names)"
   ]
  },
  {
   "cell_type": "code",
   "execution_count": 3,
   "id": "7f59aae9",
   "metadata": {},
   "outputs": [
    {
     "name": "stdout",
     "output_type": "stream",
     "text": [
      "<class 'pandas.core.frame.DataFrame'>\n",
      "RangeIndex: 150 entries, 0 to 149\n",
      "Data columns (total 4 columns):\n",
      " #   Column             Non-Null Count  Dtype  \n",
      "---  ------             --------------  -----  \n",
      " 0   sepal length (cm)  150 non-null    float64\n",
      " 1   sepal width (cm)   150 non-null    float64\n",
      " 2   petal length (cm)  150 non-null    float64\n",
      " 3   petal width (cm)   150 non-null    float64\n",
      "dtypes: float64(4)\n",
      "memory usage: 4.8 KB\n"
     ]
    }
   ],
   "source": [
    "df.info()"
   ]
  },
  {
   "cell_type": "code",
   "execution_count": 4,
   "id": "c86d7ba7",
   "metadata": {},
   "outputs": [
    {
     "data": {
      "text/html": [
       "<div>\n",
       "<style scoped>\n",
       "    .dataframe tbody tr th:only-of-type {\n",
       "        vertical-align: middle;\n",
       "    }\n",
       "\n",
       "    .dataframe tbody tr th {\n",
       "        vertical-align: top;\n",
       "    }\n",
       "\n",
       "    .dataframe thead th {\n",
       "        text-align: right;\n",
       "    }\n",
       "</style>\n",
       "<table border=\"1\" class=\"dataframe\">\n",
       "  <thead>\n",
       "    <tr style=\"text-align: right;\">\n",
       "      <th></th>\n",
       "      <th>sepal length (cm)</th>\n",
       "      <th>sepal width (cm)</th>\n",
       "      <th>petal length (cm)</th>\n",
       "      <th>petal width (cm)</th>\n",
       "    </tr>\n",
       "  </thead>\n",
       "  <tbody>\n",
       "    <tr>\n",
       "      <th>0</th>\n",
       "      <td>5.1</td>\n",
       "      <td>3.5</td>\n",
       "      <td>1.4</td>\n",
       "      <td>0.2</td>\n",
       "    </tr>\n",
       "    <tr>\n",
       "      <th>1</th>\n",
       "      <td>4.9</td>\n",
       "      <td>3.0</td>\n",
       "      <td>1.4</td>\n",
       "      <td>0.2</td>\n",
       "    </tr>\n",
       "    <tr>\n",
       "      <th>2</th>\n",
       "      <td>4.7</td>\n",
       "      <td>3.2</td>\n",
       "      <td>1.3</td>\n",
       "      <td>0.2</td>\n",
       "    </tr>\n",
       "    <tr>\n",
       "      <th>3</th>\n",
       "      <td>4.6</td>\n",
       "      <td>3.1</td>\n",
       "      <td>1.5</td>\n",
       "      <td>0.2</td>\n",
       "    </tr>\n",
       "    <tr>\n",
       "      <th>4</th>\n",
       "      <td>5.0</td>\n",
       "      <td>3.6</td>\n",
       "      <td>1.4</td>\n",
       "      <td>0.2</td>\n",
       "    </tr>\n",
       "  </tbody>\n",
       "</table>\n",
       "</div>"
      ],
      "text/plain": [
       "   sepal length (cm)  sepal width (cm)  petal length (cm)  petal width (cm)\n",
       "0                5.1               3.5                1.4               0.2\n",
       "1                4.9               3.0                1.4               0.2\n",
       "2                4.7               3.2                1.3               0.2\n",
       "3                4.6               3.1                1.5               0.2\n",
       "4                5.0               3.6                1.4               0.2"
      ]
     },
     "execution_count": 4,
     "metadata": {},
     "output_type": "execute_result"
    }
   ],
   "source": [
    "df.head()"
   ]
  },
  {
   "cell_type": "markdown",
   "id": "c0e69164",
   "metadata": {},
   "source": [
    "# Preprocess the data (if necessary)"
   ]
  },
  {
   "cell_type": "markdown",
   "id": "2104eb8e",
   "metadata": {},
   "source": [
    "# Split the Dataset"
   ]
  },
  {
   "cell_type": "code",
   "execution_count": 5,
   "id": "fe68ffca",
   "metadata": {},
   "outputs": [],
   "source": [
    "X = df.drop('petal length (cm)', axis=1)\n",
    "#y = df['petal length (cm)']\n",
    "y = pd.Series(iris.target)"
   ]
  },
  {
   "cell_type": "code",
   "execution_count": 6,
   "id": "f3a3d4e9",
   "metadata": {},
   "outputs": [],
   "source": [
    "X_train, X_test, y_train, y_test = train_test_split(X, y, test_size=0.20, random_state=42)"
   ]
  },
  {
   "cell_type": "markdown",
   "id": "bdcb9a0a",
   "metadata": {},
   "source": [
    "# Initialize and Train the Classifiers"
   ]
  },
  {
   "cell_type": "markdown",
   "id": "ea773220",
   "metadata": {},
   "source": [
    "## Random Forest\n",
    "Initialize and train a Random Forest classifier."
   ]
  },
  {
   "cell_type": "code",
   "execution_count": 7,
   "id": "3e29fd42",
   "metadata": {},
   "outputs": [],
   "source": [
    "random_forest_classifier = RandomForestClassifier(n_estimators=50, random_state=42)\n",
    "random_forest_classifier.fit(X_train, y_train)\n",
    "\n",
    "predictions = random_forest_classifier.predict(X_test)\n"
   ]
  },
  {
   "cell_type": "markdown",
   "id": "8f5e7609",
   "metadata": {},
   "source": [
    "## Evaluate the model's accuracy"
   ]
  },
  {
   "cell_type": "code",
   "execution_count": 8,
   "id": "fb8591bb",
   "metadata": {},
   "outputs": [
    {
     "name": "stdout",
     "output_type": "stream",
     "text": [
      "Random Forest Model Accuracy: 96.67%\n"
     ]
    }
   ],
   "source": [
    "accuracy = accuracy_score(y_test, predictions)\n",
    "print(f'Random Forest Model Accuracy: {accuracy * 100:.2f}%')"
   ]
  },
  {
   "cell_type": "markdown",
   "id": "27ef4327",
   "metadata": {},
   "source": [
    "## Bagging Meta-estimator\n",
    "Initialize a K-Nearest Neighbors classifier and use it as the base estimator for the Bagging classifier."
   ]
  },
  {
   "cell_type": "code",
   "execution_count": 9,
   "id": "d3a43f7f",
   "metadata": {},
   "outputs": [],
   "source": [
    "# Initialize base classifier and Bagging Meta-estimator\n",
    "base_estimator = KNeighborsClassifier()\n",
    "bagging_classifier = BaggingClassifier(base_estimator, n_estimators=50, random_state=42)\n",
    "\n",
    "# Train the classifier on the training data\n",
    "bagging_classifier.fit(X_train, y_train)\n",
    "\n",
    "# Make predictions on the test data\n",
    "predictions = bagging_classifier.predict(X_test)"
   ]
  },
  {
   "cell_type": "markdown",
   "id": "1b8db1eb",
   "metadata": {},
   "source": [
    "### Evaluate the model performance"
   ]
  },
  {
   "cell_type": "code",
   "execution_count": 10,
   "id": "8697dc13",
   "metadata": {},
   "outputs": [
    {
     "name": "stdout",
     "output_type": "stream",
     "text": [
      "Bagging Classifier Model Accuracy: 96.67%\n"
     ]
    }
   ],
   "source": [
    "# Evaluate the model's accuracy\n",
    "accuracy = accuracy_score(y_test, predictions)\n",
    "print(f'Bagging Classifier Model Accuracy: {accuracy * 100:.2f}%')"
   ]
  },
  {
   "cell_type": "markdown",
   "id": "8768d05e",
   "metadata": {},
   "source": [
    "## Pasting\n",
    "Initialize a Decision Tree classifier and use it as the base estimator for a Bagging classifier with Pasting (without replacement)."
   ]
  },
  {
   "cell_type": "code",
   "execution_count": 11,
   "id": "2ee558a9",
   "metadata": {},
   "outputs": [
    {
     "name": "stdout",
     "output_type": "stream",
     "text": [
      "Pasting Classifier Model Accuracy: 96.67%\n"
     ]
    }
   ],
   "source": [
    "base_estimator = DecisionTreeClassifier()\n",
    "pasting_classifier = BaggingClassifier(base_estimator, n_estimators=50, max_samples=0.7, bootstrap=False, random_state=42)\n",
    "\n",
    "pasting_classifier.fit(X_train, y_train)\n",
    "\n",
    "# Make predictions on the test data\n",
    "predictions = pasting_classifier.predict(X_test)\n",
    "\n",
    "# Evaluate the model's accuracy\n",
    "accuracy = accuracy_score(y_test, predictions)\n",
    "print(f'Pasting Classifier Model Accuracy: {accuracy * 100:.2f}%')\n"
   ]
  },
  {
   "cell_type": "markdown",
   "id": "4ff8b204",
   "metadata": {},
   "source": [
    "### Evaluate the model performance"
   ]
  },
  {
   "cell_type": "code",
   "execution_count": null,
   "id": "2fd5abd3",
   "metadata": {},
   "outputs": [],
   "source": []
  },
  {
   "cell_type": "markdown",
   "id": "1dcdb581",
   "metadata": {},
   "source": [
    "## Roughly Balanced Bagging (RBB)\n",
    "Implement Roughly Balanced Bagging by manually creating balanced bootstrap samples and aggregating predictions from multiple Decision Tree classifiers."
   ]
  },
  {
   "cell_type": "code",
   "execution_count": 12,
   "id": "21309157",
   "metadata": {},
   "outputs": [],
   "source": [
    "import numpy as np\n",
    "\n",
    "# Number of base estimators\n",
    "n_estimators = 100\n",
    "\n",
    "# Initialize arrays to store the ensemble predictions and models\n",
    "ensemble_preds = np.zeros((n_estimators, len(X_test)))\n",
    "ensemble_models = []\n",
    "\n",
    "for i in range(n_estimators):\n",
    "    # Create a bootstrap sample, ensuring it's roughly balanced\n",
    "    pos_indices = np.where(y_train == 1)[0]\n",
    "    neg_indices = np.where(y_train == 0)[0]\n",
    "\n",
    "    chosen_pos_indices = np.random.choice(pos_indices, size=len(pos_indices), replace=True)\n",
    "    chosen_neg_indices = np.random.choice(neg_indices, size=len(pos_indices), replace=True)\n",
    "\n",
    "    balanced_sample_indices = np.concatenate([chosen_pos_indices, chosen_neg_indices])\n",
    "    np.random.shuffle(balanced_sample_indices)\n",
    "\n",
    "    X_train_balanced = X_train.iloc[balanced_sample_indices]\n",
    "    y_train_balanced = y_train.iloc[balanced_sample_indices]\n",
    "\n",
    "    # Train a decision tree classifier on the balanced bootstrap sample\n",
    "    tree_clf = DecisionTreeClassifier(random_state=i)\n",
    "    tree_clf.fit(X_train_balanced, y_train_balanced)\n",
    "    ensemble_models.append(tree_clf)\n",
    "\n",
    "    # Make predictions on the test set\n",
    "    ensemble_preds[i] = tree_clf.predict(X_test)\n",
    "\n",
    "# Majority voting across all estimators for the final prediction\n",
    "final_preds = np.round(np.mean(ensemble_preds, axis=0))"
   ]
  },
  {
   "cell_type": "markdown",
   "id": "ee97138e",
   "metadata": {},
   "source": [
    "### Evaluate the model performance"
   ]
  },
  {
   "cell_type": "code",
   "execution_count": 13,
   "id": "c3726ae5",
   "metadata": {},
   "outputs": [
    {
     "name": "stdout",
     "output_type": "stream",
     "text": [
      "Roughly Balanced Bagging Model Accuracy: 0.63\n"
     ]
    }
   ],
   "source": [
    "# Calculate accuracy\n",
    "accuracy = accuracy_score(y_test, final_preds)\n",
    "print(f'Roughly Balanced Bagging Model Accuracy: {accuracy:.2f}')"
   ]
  }
 ],
 "metadata": {
  "kernelspec": {
   "display_name": "Python 3 (ipykernel)",
   "language": "python",
   "name": "python3"
  },
  "language_info": {
   "codemirror_mode": {
    "name": "ipython",
    "version": 3
   },
   "file_extension": ".py",
   "mimetype": "text/x-python",
   "name": "python",
   "nbconvert_exporter": "python",
   "pygments_lexer": "ipython3",
   "version": "3.11.5"
  }
 },
 "nbformat": 4,
 "nbformat_minor": 5
}
