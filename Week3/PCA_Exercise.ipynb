{
 "cells": [
  {
   "cell_type": "markdown",
   "metadata": {
    "id": "d_VMK5_TYu5S"
   },
   "source": [
    "# **PCA**\n",
    "\n",
    "\n",
    "\n",
    "\n",
    "\n"
   ]
  },
  {
   "cell_type": "markdown",
   "metadata": {
    "id": "rm1w6Pl2vrr4"
   },
   "source": [
    "# Step 1 : import libraries"
   ]
  },
  {
   "cell_type": "code",
   "execution_count": 1,
   "metadata": {
    "id": "KifnD8RtYlFv"
   },
   "outputs": [],
   "source": [
    "import pandas as pd\n",
    "import numpy as np\n",
    "from sklearn.datasets import load_wine\n",
    "import matplotlib.pyplot as plt\n",
    "import seaborn as sns\n",
    "from sklearn.model_selection import train_test_split\n",
    "from sklearn.preprocessing import StandardScaler\n",
    "from sklearn.decomposition import PCA\n",
    "from sklearn.linear_model import LogisticRegression\n",
    "from sklearn.metrics import confusion_matrix, accuracy_score"
   ]
  },
  {
   "cell_type": "markdown",
   "metadata": {
    "id": "YIQqz2T5vy_M"
   },
   "source": [
    "# Step 2: Importing the data set\n",
    "\n",
    "### Import the dataset and distributing the dataset into X and y components for data analysis.\n",
    "\n",
    "\n"
   ]
  },
  {
   "cell_type": "code",
   "execution_count": 2,
   "metadata": {
    "id": "rydT0aSdZFBv"
   },
   "outputs": [],
   "source": [
    "# Load the Wine dataset\n",
    "wine_data = load_wine()\n",
    "df = pd.DataFrame(data=wine_data.data, columns=wine_data.feature_names)\n",
    "\n",
    "df['target'] = wine_data.target\n",
    "\n",
    "X = df.drop(columns='target')\n",
    "y = df['target']"
   ]
  },
  {
   "cell_type": "markdown",
   "metadata": {
    "id": "iu8551hZZKB1"
   },
   "source": [
    "# Step 3: Splitting the dataset into the Training set and Test set\n",
    "\n",
    "\n",
    "\n"
   ]
  },
  {
   "cell_type": "code",
   "execution_count": 3,
   "metadata": {
    "id": "KUbALv2xZKp8"
   },
   "outputs": [],
   "source": [
    "X_train, X_test, y_train, y_test = train_test_split(X, y, test_size=0.2, random_state=42)"
   ]
  },
  {
   "cell_type": "markdown",
   "metadata": {
    "id": "SgMGNFJwbOwb"
   },
   "source": [
    "# Step 4: Feature Scaling\n",
    "### Doing the pre-processing part on training and testing set such as fitting the Standard scale.\n",
    "\n",
    "\n",
    "\n",
    "\n"
   ]
  },
  {
   "cell_type": "code",
   "execution_count": 4,
   "metadata": {},
   "outputs": [
    {
     "name": "stdout",
     "output_type": "stream",
     "text": [
      "Shape of X: (178, 13)\n",
      "Shape of y: (178,)\n"
     ]
    }
   ],
   "source": [
    "# Apply feature scaling to the training and test sets\n",
    "src = StandardScaler()\n",
    "X_train_ = src.fit_transform(X_train)\n",
    "X_test_ = src.transform(X_test)\n",
    "\n",
    "print(f\"Shape of X: {X.shape}\")\n",
    "print(f\"Shape of y: {y.shape}\")"
   ]
  },
  {
   "cell_type": "markdown",
   "metadata": {
    "id": "JRKujGH2bmQQ"
   },
   "source": [
    "# Step 5: Applying PCA function\n",
    "### Applying the PCA function into the training and testing set for analysis.\n",
    "\n",
    "\n"
   ]
  },
  {
   "cell_type": "code",
   "execution_count": 5,
   "metadata": {},
   "outputs": [],
   "source": [
    "# Apply PCA\n",
    "pca = PCA(n_components=2)\n",
    "X_train_pca = pca.fit_transform(X_train_)\n",
    "X_test_pca = pca.transform(X_test_)"
   ]
  },
  {
   "cell_type": "markdown",
   "metadata": {
    "id": "mEe5WUw5bzKQ"
   },
   "source": [
    "# Step 6: Fitting Logistic Regression To the training set\n",
    "\n",
    "\n"
   ]
  },
  {
   "cell_type": "code",
   "execution_count": 6,
   "metadata": {},
   "outputs": [
    {
     "name": "stdout",
     "output_type": "stream",
     "text": [
      "Logistic Regression coefficients:\n",
      "[[ 1.0560776  -0.74396378]\n",
      " [ 0.25959938  1.85617585]\n",
      " [-1.31567699 -1.11221207]]\n"
     ]
    }
   ],
   "source": [
    "# Fit Logistic Regression to the training set\n",
    "lr = LogisticRegression(random_state=42)\n",
    "lr.fit(X_train_pca, y_train)\n",
    "\n",
    "# Display model coefficients\n",
    "print(\"Logistic Regression coefficients:\")\n",
    "print(lr.coef_)"
   ]
  },
  {
   "cell_type": "markdown",
   "metadata": {
    "id": "5Rwr3eVZV_5e"
   },
   "source": [
    "# Step 7: Predicting the test set result\n",
    "\n",
    "\n"
   ]
  },
  {
   "cell_type": "code",
   "execution_count": 7,
   "metadata": {
    "id": "iUWVlHMgb2g8"
   },
   "outputs": [
    {
     "name": "stdout",
     "output_type": "stream",
     "text": [
      "Predicted results for the test set:\n",
      "[0 0 2 0 1 0 1 2 1 2]\n"
     ]
    }
   ],
   "source": [
    "y_pred = lr.predict(X_test_pca)\n",
    "\n",
    "print(\"Predicted results for the test set:\")\n",
    "print(y_pred[:10])"
   ]
  },
  {
   "cell_type": "markdown",
   "metadata": {
    "id": "5LriaSY7b-rk"
   },
   "source": [
    "# Step 8: Making the confusion matrix\n",
    "\n",
    "\n"
   ]
  },
  {
   "cell_type": "code",
   "execution_count": 8,
   "metadata": {
    "id": "Lfg8qrT0b6jC"
   },
   "outputs": [
    {
     "name": "stdout",
     "output_type": "stream",
     "text": [
      "Confusion Matrix:\n",
      "[[14  0  0]\n",
      " [ 0 14  0]\n",
      " [ 0  0  8]]\n",
      "\n",
      "Accuracy: 1.0\n"
     ]
    }
   ],
   "source": [
    "conf_matrix = confusion_matrix(y_test, y_pred)\n",
    "\n",
    "print(\"Confusion Matrix:\")\n",
    "print(conf_matrix)\n",
    "\n",
    "accuracy = accuracy_score(y_test, y_pred)\n",
    "print(\"\\nAccuracy:\", accuracy)"
   ]
  },
  {
   "cell_type": "markdown",
   "metadata": {
    "id": "O5y7HfZBcNWB"
   },
   "source": [
    "# Step 9: Predicting the training set result\n",
    "\n",
    "\n"
   ]
  },
  {
   "cell_type": "code",
   "execution_count": 9,
   "metadata": {
    "id": "JQOq1bdwcEQ-"
   },
   "outputs": [
    {
     "name": "stdout",
     "output_type": "stream",
     "text": [
      "Accuracy: 0.9507042253521126\n"
     ]
    }
   ],
   "source": [
    "y_train_pred = lr.predict(X_train_pca)\n",
    "\n",
    "train_accuracy = accuracy_score(y_train, y_train_pred)\n",
    "print(\"Accuracy:\", train_accuracy)"
   ]
  },
  {
   "cell_type": "markdown",
   "metadata": {
    "id": "ggs2TZ_BWPXk"
   },
   "source": [
    "# Step 10: Visualizing the Test set results\n",
    "\n",
    "\n"
   ]
  },
  {
   "cell_type": "code",
   "execution_count": 10,
   "metadata": {
    "id": "LoqPn9RCc4bM"
   },
   "outputs": [
    {
     "data": {
      "image/png": "[encoded data removed]",
      "text/plain": [
       "<Figure size 1000x600 with 1 Axes>"
      ]
     },
     "metadata": {},
     "output_type": "display_data"
    }
   ],
   "source": [
    "plt.figure(figsize=(10, 6))\n",
    "plt.scatter(X_test_pca[y_test == 0, 0], X_test_pca[y_test == 0, 1], color='red', label='0')\n",
    "plt.scatter(X_test_pca[y_test == 1, 0], X_test_pca[y_test == 1, 1], color='green', label='1')\n",
    "plt.scatter(X_test_pca[y_test == 2, 0], X_test_pca[y_test == 2, 1], color='blue', label='2')\n",
    "\n",
    "# Decision boundary visualization\n",
    "x_min, x_max = X_test_pca[:, 0].min() - 1, X_test_pca[:, 0].max() + 1\n",
    "y_min, y_max = X_test_pca[:, 1].min() - 1, X_test_pca[:, 1].max() + 1\n",
    "xx, yy = np.meshgrid(np.arange(x_min, x_max, 0.01), np.arange(y_min, y_max, 0.01))\n",
    "Z = lr.predict(np.c_[xx.ravel(), yy.ravel()])\n",
    "Z = Z.reshape(xx.shape)\n",
    "plt.contourf(xx, yy, Z, alpha=0.1)\n",
    "\n",
    "plt.title('Logistic Regression (Test set)')\n",
    "plt.xlabel('PC1')\n",
    "plt.ylabel('PC2')\n",
    "plt.legend()\n",
    "plt.grid(True)\n",
    "plt.show()"
   ]
  },
  {
   "cell_type": "code",
   "execution_count": 11,
   "metadata": {},
   "outputs": [
    {
     "data": {
      "text/plain": [
       "array([[ 0.12753249, -0.25623655, -0.02236181, -0.24428137,  0.14757757,\n",
       "         0.38490786,  0.41950095, -0.2992598 ,  0.30843734, -0.11907301,\n",
       "         0.29949964,  0.38381622,  0.27587548],\n",
       "       [-0.4928047 , -0.1904464 , -0.31676447,  0.03513857, -0.26217161,\n",
       "        -0.09601687, -0.01513129, -0.07626286, -0.0738558 , -0.53396728,\n",
       "         0.28133315,  0.14274046, -0.381054  ]])"
      ]
     },
     "execution_count": 11,
     "metadata": {},
     "output_type": "execute_result"
    }
   ],
   "source": [
    "# components\n",
    "pca.components_"
   ]
  },
  {
   "cell_type": "markdown",
   "metadata": {
    "id": "eNSPTcFRvHqe"
   },
   "source": [
    "#**Well Done :)**\n",
    "Now let's practice!"
   ]
  }
 ],
 "metadata": {
  "colab": {
   "provenance": []
  },
  "kernelspec": {
   "display_name": "Python 3 (ipykernel)",
   "language": "python",
   "name": "python3"
  },
  "language_info": {
   "codemirror_mode": {
    "name": "ipython",
    "version": 3
   },
   "file_extension": ".py",
   "mimetype": "text/x-python",
   "name": "python",
   "nbconvert_exporter": "python",
   "pygments_lexer": "ipython3",
   "version": "3.11.5"
  }
 },
 "nbformat": 4,
 "nbformat_minor": 1
}
